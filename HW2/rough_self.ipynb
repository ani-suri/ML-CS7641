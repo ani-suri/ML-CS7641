{
 "cells": [
  {
   "cell_type": "code",
   "execution_count": 2,
   "metadata": {},
   "outputs": [],
   "source": [
    "import sys\n",
    "import matplotlib\n",
    "import numpy as np\n",
    "import matplotlib.pyplot as plt\n",
    "#mport utilities.localtests as localtests\n",
    "from mpl_toolkits.mplot3d import axes3d\n",
    "from tqdm import tqdm"
   ]
  },
  {
   "cell_type": "code",
   "execution_count": 91,
   "metadata": {},
   "outputs": [
    {
     "data": {
      "text/plain": [
       "array([[ 0.34328959,  0.78642789],\n",
       "       [-1.18037682,  1.73347216]])"
      ]
     },
     "metadata": {},
     "output_type": "display_data"
    },
    {
     "data": {
      "text/plain": [
       "array([[-0.79015968, -0.5179102 ],\n",
       "       [-1.16374802, -0.96441859],\n",
       "       [ 1.02117727,  0.94736293]])"
      ]
     },
     "metadata": {},
     "output_type": "display_data"
    }
   ],
   "source": [
    "x = np.random.randn(2, 2)\n",
    "y = np.random.randn(3, 2)\n",
    "display(x)\n",
    "display(y)"
   ]
  },
  {
   "cell_type": "code",
   "execution_count": 33,
   "metadata": {},
   "outputs": [
    {
     "data": {
      "text/plain": [
       "array([[-1.12327394,  0.71550579],\n",
       "       [-1.36914876,  1.03560648]])"
      ]
     },
     "metadata": {},
     "output_type": "display_data"
    },
    {
     "data": {
      "text/plain": [
       "array([[ 0.48808644, -0.50618654,  1.53170346],\n",
       "       [ 1.86404905,  0.51010584,  0.11357254]])"
      ]
     },
     "metadata": {},
     "output_type": "display_data"
    }
   ],
   "source": [
    "y = y.T\n",
    "display(x)\n",
    "display(y)"
   ]
  },
  {
   "cell_type": "code",
   "execution_count": 34,
   "metadata": {},
   "outputs": [
    {
     "data": {
      "text/plain": [
       "(2, 2)"
      ]
     },
     "execution_count": 34,
     "metadata": {},
     "output_type": "execute_result"
    }
   ],
   "source": [
    "N = x.shape[0]\n",
    "M = y.shape[0]\n",
    "N, M"
   ]
  },
  {
   "cell_type": "code",
   "execution_count": 96,
   "metadata": {},
   "outputs": [
    {
     "data": {
      "text/plain": [
       "array([[1.72800611, 2.3101138 , 0.69672936],\n",
       "       [2.284949  , 2.697942  , 2.33769291]])"
      ]
     },
     "execution_count": 96,
     "metadata": {},
     "output_type": "execute_result"
    }
   ],
   "source": [
    "x_expanded = x[:, np.newaxis, :]\n",
    "y_expanded = y[np.newaxis, :, :]\n",
    "squared_diff = (x_expanded - y_expanded) ** 2\n",
    "squared_dist = np.sum(squared_diff, axis=2)\n",
    "dist = np.sqrt(squared_dist)\n",
    "\n",
    "\n",
    "dist\n"
   ]
  },
  {
   "cell_type": "code",
   "execution_count": 31,
   "metadata": {},
   "outputs": [
    {
     "data": {
      "text/plain": [
       "array([0.28410431, 3.84828813])"
      ]
     },
     "metadata": {},
     "output_type": "display_data"
    },
    {
     "data": {
      "text/plain": [
       "array([2.04811745, 5.16371739])"
      ]
     },
     "metadata": {},
     "output_type": "display_data"
    }
   ],
   "source": [
    "# x_sq = np.sum(x**2, axis=1)\n",
    "# y_sq = np.sum(y**2, axis=1)\n",
    "# display(x_sq)\n",
    "# display(y_sq)"
   ]
  },
  {
   "cell_type": "code",
   "execution_count": 35,
   "metadata": {},
   "outputs": [],
   "source": [
    "data = np.array([\n",
    "            [1.,    2.,     3.,     1],\n",
    "            [1.,    np.nan, 3.,     1],\n",
    "            [7.,    np.nan, 9.,     0],\n",
    "            [7.,    8.,     9.,     0],\n",
    "            [26.,   27.,    28.,    np.nan],\n",
    "            [2.,    3.,     4.,     np.nan],\n",
    "            [16.,   17.,    18.,    1],\n",
    "            [np.nan,17.,    18.,    1],\n",
    "            [11.,   12.,    13.,    np.nan],\n",
    "            [22.,   23.,    24.,    0],\n",
    "            [np.nan,23.,    24.,    0],\n",
    "            [19.,   20.,    21.,    np.nan]\n",
    "        ])\n"
   ]
  },
  {
   "cell_type": "code",
   "execution_count": 68,
   "metadata": {},
   "outputs": [
    {
     "data": {
      "text/plain": [
       "array([[ 1., nan,  3.,  1.],\n",
       "       [ 7., nan,  9.,  0.],\n",
       "       [nan, 17., 18.,  1.],\n",
       "       [nan, 23., 24.,  0.]])"
      ]
     },
     "metadata": {},
     "output_type": "display_data"
    },
    {
     "data": {
      "text/plain": [
       "array([1., 0., 1., 0.])"
      ]
     },
     "execution_count": 68,
     "metadata": {},
     "output_type": "execute_result"
    }
   ],
   "source": [
    "# labeled_incomplete: n x (D+1) array (n <= N) where values contain incomplete features but complete labels\n",
    "\n",
    "'''\n",
    "    data set for incomplete  = data[:, :-1] excludes the last col, takes all rows --> featueres no label \n",
    "'''\n",
    "incomp_features=  data[np.any(np.isnan(data[:, :-1]), axis=1)]\n",
    "'''\n",
    "    data set for complete lavel = data[:, -1] all the rows but the last col \n",
    "'''\n",
    "#comp_labels = data[~np.isnan(data[:, -1])]\n",
    "y_data = incomp_features[:,-1]\n",
    "\n",
    "\n",
    "display(incomp_features)\n",
    "data[:, :-1]\n",
    "data[:, -1]\n",
    "y_data\n"
   ]
  },
  {
   "cell_type": "code",
   "execution_count": 69,
   "metadata": {},
   "outputs": [],
   "source": [
    "data = np.array([\n",
    "            [1.,    2.,     3.,     1],\n",
    "            [1.,    np.nan, 3.,     1],\n",
    "            [7.,    np.nan, 9.,     0],\n",
    "            [7.,    8.,     9.,     0],\n",
    "            [26.,   27.,    28.,    np.nan],\n",
    "            [2.,    3.,     4.,     np.nan],\n",
    "            [16.,   17.,    18.,    1],\n",
    "            [np.nan,17.,    18.,    1],\n",
    "            [11.,   12.,    13.,    np.nan],\n",
    "            [22.,   23.,    24.,    0],\n",
    "            [np.nan,23.,    24.,    0],\n",
    "            [19.,   20.,    21.,    np.nan]\n",
    "        ])\n"
   ]
  },
  {
   "cell_type": "code",
   "execution_count": 75,
   "metadata": {},
   "outputs": [
    {
     "data": {
      "text/plain": [
       "array([[26., 27., 28., nan],\n",
       "       [ 2.,  3.,  4., nan],\n",
       "       [11., 12., 13., nan],\n",
       "       [19., 20., 21., nan]])"
      ]
     },
     "execution_count": 75,
     "metadata": {},
     "output_type": "execute_result"
    }
   ],
   "source": [
    "\n",
    "\"\"\"\n",
    "    Args:\n",
    "        data: N x (D+1) numpy array where the last column is the labels   \n",
    "    Return:\n",
    "        unlabeled_complete: n x (D+1) array (n <= N) where values contain complete features but incomplete labels\n",
    "\"\"\"\n",
    "y = data[:, -1]\n",
    "incomp_y = data[np.isnan(y)]\n",
    "\n",
    "y\n",
    "incomp_y\n"
   ]
  },
  {
   "cell_type": "code",
   "execution_count": 76,
   "metadata": {},
   "outputs": [],
   "source": [
    "complete_data = np.array([[1.,2.,3.,1],[7.,8.,9.,0],[16.,17.,18.,1],[22.,23.,24.,0]])\n",
    "incomplete_data = np.array([[1.,np.nan,3.,1],[7.,np.nan,9.,0],[np.nan,17.,18.,1],[np.nan,23.,24.,0]])\n",
    "correct_clean_data = np.array([\n",
    "            [ 1.   ,2.   ,3.   ,1. ],\n",
    "            [ 7.   ,8.   ,9.   ,0. ],\n",
    "            [16.  ,17.  ,18.   ,1. ],\n",
    "            [22.  ,23.  ,24.   ,0. ],\n",
    "            [14.5 ,23.  ,24.   ,0. ],\n",
    "            [ 7.  ,15.5  ,9.   ,0. ],\n",
    "            [ 8.5 ,17.  ,18.   ,1. ],\n",
    "            [ 1.   ,9.5  ,3.   ,1. ]])"
   ]
  },
  {
   "cell_type": "code",
   "execution_count": 4,
   "metadata": {},
   "outputs": [],
   "source": [
    "import numpy as np \n",
    "import numpy.random as random "
   ]
  },
  {
   "cell_type": "code",
   "execution_count": 10,
   "metadata": {},
   "outputs": [
    {
     "data": {
      "text/plain": [
       "5"
      ]
     },
     "metadata": {},
     "output_type": "display_data"
    },
    {
     "data": {
      "text/plain": [
       "148.4131591025766"
      ]
     },
     "metadata": {},
     "output_type": "display_data"
    },
    {
     "ename": "AxisError",
     "evalue": "axis 1 is out of bounds for array of dimension 0",
     "output_type": "error",
     "traceback": [
      "\u001b[0;31m---------------------------------------------------------------------------\u001b[0m",
      "\u001b[0;31mAxisError\u001b[0m                                 Traceback (most recent call last)",
      "\u001b[1;32m/Users/anirudh/Documents/GT/Fall2023/ML/HW2/rough_self.ipynb Cell 13\u001b[0m line \u001b[0;36m8\n\u001b[1;32m      <a href='vscode-notebook-cell:/Users/anirudh/Documents/GT/Fall2023/ML/HW2/rough_self.ipynb#X14sZmlsZQ%3D%3D?line=4'>5</a>\u001b[0m exp_N \u001b[39m=\u001b[39m np\u001b[39m.\u001b[39mexp(N)\n\u001b[1;32m      <a href='vscode-notebook-cell:/Users/anirudh/Documents/GT/Fall2023/ML/HW2/rough_self.ipynb#X14sZmlsZQ%3D%3D?line=5'>6</a>\u001b[0m display(exp_N)\n\u001b[0;32m----> <a href='vscode-notebook-cell:/Users/anirudh/Documents/GT/Fall2023/ML/HW2/rough_self.ipynb#X14sZmlsZQ%3D%3D?line=7'>8</a>\u001b[0m sum_ep \u001b[39m=\u001b[39m np\u001b[39m.\u001b[39;49msum(exp_N, axis\u001b[39m=\u001b[39;49m\u001b[39m1\u001b[39;49m, keepdims\u001b[39m=\u001b[39;49m\u001b[39mTrue\u001b[39;49;00m)\n\u001b[1;32m     <a href='vscode-notebook-cell:/Users/anirudh/Documents/GT/Fall2023/ML/HW2/rough_self.ipynb#X14sZmlsZQ%3D%3D?line=9'>10</a>\u001b[0m prob \u001b[39m=\u001b[39m np\u001b[39m.\u001b[39mdivide(exp_N, sum_ep)\n\u001b[1;32m     <a href='vscode-notebook-cell:/Users/anirudh/Documents/GT/Fall2023/ML/HW2/rough_self.ipynb#X14sZmlsZQ%3D%3D?line=11'>12</a>\u001b[0m \u001b[39mprint\u001b[39m(prob)\n",
      "File \u001b[0;32m~/anaconda3/envs/ml_hw2/lib/python3.10/site-packages/numpy/core/fromnumeric.py:2313\u001b[0m, in \u001b[0;36msum\u001b[0;34m(a, axis, dtype, out, keepdims, initial, where)\u001b[0m\n\u001b[1;32m   2310\u001b[0m         \u001b[39mreturn\u001b[39;00m out\n\u001b[1;32m   2311\u001b[0m     \u001b[39mreturn\u001b[39;00m res\n\u001b[0;32m-> 2313\u001b[0m \u001b[39mreturn\u001b[39;00m _wrapreduction(a, np\u001b[39m.\u001b[39;49madd, \u001b[39m'\u001b[39;49m\u001b[39msum\u001b[39;49m\u001b[39m'\u001b[39;49m, axis, dtype, out, keepdims\u001b[39m=\u001b[39;49mkeepdims,\n\u001b[1;32m   2314\u001b[0m                       initial\u001b[39m=\u001b[39;49minitial, where\u001b[39m=\u001b[39;49mwhere)\n",
      "File \u001b[0;32m~/anaconda3/envs/ml_hw2/lib/python3.10/site-packages/numpy/core/fromnumeric.py:86\u001b[0m, in \u001b[0;36m_wrapreduction\u001b[0;34m(obj, ufunc, method, axis, dtype, out, **kwargs)\u001b[0m\n\u001b[1;32m     84\u001b[0m             \u001b[39mreturn\u001b[39;00m reduction(axis\u001b[39m=\u001b[39maxis, dtype\u001b[39m=\u001b[39mdtype, out\u001b[39m=\u001b[39mout, \u001b[39m*\u001b[39m\u001b[39m*\u001b[39mpasskwargs)\n\u001b[1;32m     85\u001b[0m         \u001b[39melse\u001b[39;00m:\n\u001b[0;32m---> 86\u001b[0m             \u001b[39mreturn\u001b[39;00m reduction(axis\u001b[39m=\u001b[39;49maxis, out\u001b[39m=\u001b[39;49mout, \u001b[39m*\u001b[39;49m\u001b[39m*\u001b[39;49mpasskwargs)\n\u001b[1;32m     88\u001b[0m \u001b[39mreturn\u001b[39;00m ufunc\u001b[39m.\u001b[39mreduce(obj, axis, dtype, out, \u001b[39m*\u001b[39m\u001b[39m*\u001b[39mpasskwargs)\n",
      "File \u001b[0;32m~/anaconda3/envs/ml_hw2/lib/python3.10/site-packages/numpy/core/_methods.py:49\u001b[0m, in \u001b[0;36m_sum\u001b[0;34m(a, axis, dtype, out, keepdims, initial, where)\u001b[0m\n\u001b[1;32m     47\u001b[0m \u001b[39mdef\u001b[39;00m \u001b[39m_sum\u001b[39m(a, axis\u001b[39m=\u001b[39m\u001b[39mNone\u001b[39;00m, dtype\u001b[39m=\u001b[39m\u001b[39mNone\u001b[39;00m, out\u001b[39m=\u001b[39m\u001b[39mNone\u001b[39;00m, keepdims\u001b[39m=\u001b[39m\u001b[39mFalse\u001b[39;00m,\n\u001b[1;32m     48\u001b[0m          initial\u001b[39m=\u001b[39m_NoValue, where\u001b[39m=\u001b[39m\u001b[39mTrue\u001b[39;00m):\n\u001b[0;32m---> 49\u001b[0m     \u001b[39mreturn\u001b[39;00m umr_sum(a, axis, dtype, out, keepdims, initial, where)\n",
      "\u001b[0;31mAxisError\u001b[0m: axis 1 is out of bounds for array of dimension 0"
     ]
    }
   ],
   "source": [
    "N = np.random.randn(5, 4)\n",
    "N = N.shape[0]\n",
    "display(N)\n",
    "\n",
    "exp_N = np.exp(N)\n",
    "display(exp_N)\n",
    "\n",
    "sum_ep = np.sum(exp_N, axis=1, keepdims=True)\n",
    "\n",
    "prob = np.divide(exp_N, sum_ep)\n",
    "\n",
    "print(prob)"
   ]
  },
  {
   "cell_type": "code",
   "execution_count": 11,
   "metadata": {},
   "outputs": [
    {
     "data": {
      "text/plain": [
       "array([[0.26894142, 0.73105858],\n",
       "       [0.26894142, 0.73105858]])"
      ]
     },
     "metadata": {},
     "output_type": "display_data"
    }
   ],
   "source": [
    "logit = np.array([[1.0, 2.0], [3.0, 4.0]])\n",
    "\n",
    "exp_form = np.exp(logit) #exp of all i in logit\n",
    "sum_exp = np.sum(exp_form, axis=1, keepdims=True) #sum of all the exp \n",
    "prob = np.divide(exp_form, sum_exp)\n",
    "\n",
    "display(prob)\n"
   ]
  },
  {
   "cell_type": "code",
   "execution_count": 12,
   "metadata": {},
   "outputs": [
    {
     "data": {
      "text/plain": [
       "array([[0.26894142, 0.73105858],\n",
       "       [0.26894142, 0.73105858]])"
      ]
     },
     "metadata": {},
     "output_type": "display_data"
    }
   ],
   "source": [
    "low_dim_logit = logit - np.max(logit, axis=1, keepdims=True)\n",
    "exp_form = np.exp(low_dim_logit) #exp of all i in logit\n",
    "sum_exp = np.sum(exp_form, axis=1, keepdims=True) #sum of all the exp \n",
    "prob = np.divide(exp_form, sum_exp)\n",
    "\n",
    "\n",
    "display(prob)"
   ]
  },
  {
   "cell_type": "code",
   "execution_count": null,
   "metadata": {},
   "outputs": [],
   "source": []
  }
 ],
 "metadata": {
  "kernelspec": {
   "display_name": "ml_hw2",
   "language": "python",
   "name": "python3"
  },
  "language_info": {
   "codemirror_mode": {
    "name": "ipython",
    "version": 3
   },
   "file_extension": ".py",
   "mimetype": "text/x-python",
   "name": "python",
   "nbconvert_exporter": "python",
   "pygments_lexer": "ipython3",
   "version": "3.10.13"
  },
  "orig_nbformat": 4
 },
 "nbformat": 4,
 "nbformat_minor": 2
}
